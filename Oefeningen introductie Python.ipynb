{
  "cells": [
    {
      "metadata": {
        "id": "CBkObqHNX7SO",
        "colab_type": "text"
      },
      "cell_type": "markdown",
      "source": [
        "## Voorbereiding\n",
        "\n",
        "Ter voorbereiding op de volgende oefeningen, lees je het voorwoord en hoofdstuk 1 van het boek *De Programmeursleerling Leren coderen met Python 3* van *Pieter Spronck* en volg je de cursus **Learn the Basics** op https://www.learnpython.org/. De onderdelen *Classes and Objects*, *Dictionaries* en *Modules and Packages* mag je overslaan.\n",
        "\n",
        "\n",
        "\n",
        "\n",
        "## Oefening 1\n",
        "\n",
        "In deze oefening ga je een string definiëren met de waarde van je voornaam en achternaam.\n",
        "Vervolgens print je van deze string eerst je voornaam en daarna je achternaam.\n",
        "Daarna vervang je in deze string je achternaam door je achternaam in hoofdletters. Gebruik hiervoor de replace functie.\n",
        "Als laatste print je het aantal letter van je voornaam en het aantal letters van je achternaam."
      ]
    },
    {
      "metadata": {
        "id": "DJ_MAQl9X7SP",
        "colab_type": "code",
        "colab": {},
        "outputId": "083aabe9-183f-45d3-a47e-0633433abf73",
        "trusted": false
      },
      "cell_type": "code",
      "source": [
        "# Definieer variable met voornaam en achternaam\n",
        "voornaam_achternaam = 'Mark Terlien'\n",
        "\n",
        "# Print voornaam\n",
        "voornaam = voornaam_achternaam[0:4]\n",
        "print(voornaam)\n",
        "\n",
        "# Print achternaam\n",
        "print(voornaam_achternaam[-7:])\n",
        "\n",
        "# Vervang achternaam door achternaam in hoofdletters\n",
        "print(voornaam_achternaam.replace('Terlien', 'TERLIEN'))\n",
        "\n",
        "# Print aantal letters voornaam\n",
        "print(len(voornaam_achternaam[0:4]))\n",
        "\n",
        "# Print aantal letters achternaam"
      ],
      "execution_count": null,
      "outputs": []
    },
    {
      "metadata": {
        "id": "cbgD5WLaX7SV",
        "colab_type": "text"
      },
      "cell_type": "markdown",
      "source": [
        "## Oefening 2\n",
        "\n",
        "Definieer een functie die een getal als input heeft. Als het getal negatief is print de functie \"Negatief\". Als getal positief is print functie \"Positief\".\n",
        "\n",
        "Als het een even getal is print de functie \"even\". Is het een oneven getal dan print de functie \"oneven\".\n",
        "\n",
        "Roep de functie aan met een positief getal, negatief getal, 0, een even getal en een oneven getal."
      ]
    },
    {
      "metadata": {
        "id": "snU9Wi6IX7SW",
        "colab_type": "code",
        "colab": {},
        "outputId": "7ed8f1ad-ee70-47e1-c13d-5d5ed41184be",
        "trusted": false
      },
      "cell_type": "code",
      "source": [
        "# Definieer functie   \n",
        "def positief_of_negatief(getal):\n",
        "    if getal > 0:\n",
        "        print(\"P\")\n",
        "    if getal < 0:\n",
        "        print('N')\n",
        "    if getal == 0:\n",
        "        print('0')\n",
        "\n",
        "# Roep functie aan met negatief getal\n",
        "positief_of_negatief(8)\n",
        "\n",
        "# Roep functie aan met positief getal\n",
        "positief_of_negatief(0.2)\n",
        "\n",
        "# Roep functie aan met 0\n"
      ],
      "execution_count": 2,
      "outputs": []
    },
    {
      "metadata": {
        "id": "FQ0083huX7SY",
        "colab_type": "text"
      },
      "cell_type": "markdown",
      "source": [
        "## Oefening 3\n",
        "\n",
        "Definieer een functie die een getal als input heeft. Dit getal is het aantal regels dat door de functie geprint moet worden. Dus bij input = 3 print functie drie regels als volgt:\n",
        "\n",
        "regel 1<br/>\n",
        "regel 2<br/>\n",
        "regel 3<br/>\n",
        "\n",
        "Maak een functie die gebruik maakt van een `while` loop.\n",
        "\n",
        "Roep de functie aan om 10 regels te printen."
      ]
    },
    {
      "metadata": {
        "id": "gD7WotUIX7SZ",
        "colab_type": "code",
        "colab": {},
        "outputId": "d11cee22-fbfe-42a7-f42f-63226a7ccd69",
        "trusted": false
      },
      "cell_type": "code",
      "source": [
        "# Definieer functie\n",
        "def print_regels(aantal_regels):\n",
        "    teller = 1\n",
        "    while teller <= aantal_regels :\n",
        "        print('regel ' + str(teller))\n",
        "        teller = teller + 1\n",
        "    print('Einde van while lus')\n",
        "\n",
        "# Roep functie aan om 10 regels te printen\n",
        "print_regels(10)\n",
        "\n",
        "# Roep functie aan om -10 regels te printen\n",
        "\n",
        "# Roep functie aan om 0 regels te printen"
      ],
      "execution_count": null,
      "outputs": []
    },
    {
      "metadata": {
        "id": "5I5HAK_WX7Sd",
        "colab_type": "text"
      },
      "cell_type": "markdown",
      "source": [
        "## Oefening 4\n",
        "\n",
        "Schrijf de functie die je gemaakt hebt in de vorige oefening om naar een functie die gebruik maakt van een `for` loop in plaats van een `while` loop.\n",
        "Zorg dat de output hetzelfde is als bij het script van oefening 3.\n",
        "\n",
        "Roep de functie aan om 10 regels te printen."
      ]
    },
    {
      "metadata": {
        "trusted": true
      },
      "cell_type": "code",
      "source": [
        "# Definieer functie\n",
        "def print_regels(aantal_regels):\n",
        "    for teller in range(aantal_regels) :\n",
        "        print('regel ' + str(teller+1))\n",
        "        teller = teller + 1\n",
        "    print('Einde van while lus')\n",
        "\n",
        "# Roep functie aan om 10 regels te printen\n",
        "print_regels(10)"
      ],
      "execution_count": null,
      "outputs": []
    },
    {
      "metadata": {
        "id": "h-4mBUfBX7Sk",
        "colab_type": "text"
      },
      "cell_type": "markdown",
      "source": [
        "## Oefening 5\n",
        "\n",
        "Maak een functie die telt hoe vaak de volgende klinkers (a, e, i, o, u) in een string voorkomen.\n",
        "\n",
        "Deze functie heeft de volgende input parameter:\n",
        "\n",
        "- String waarvan de karakters geteld moeten worden\n",
        "\n",
        "De output toont per klinker (a, e, i, o, u) hoe vaak deze voorkomt in de string.\n",
        "Gebruik hiervoor de functie count (zie https://www.geeksforgeeks.org/python-string-count/).\n",
        "\n",
        "Alleen klinkers die meer die 1 of meer keer voorkomen worden geprint.\n",
        "\n",
        "Roep de functie aan met je voornaam en achternaam (gescheiden door spatie) als input."
      ]
    },
    {
      "metadata": {
        "id": "aPU1rDiPX7Sl",
        "colab_type": "code",
        "colab": {},
        "outputId": "3f699e51-4de4-4ff4-86a4-2c9b679eb98b",
        "trusted": true
      },
      "cell_type": "code",
      "source": [
        "# functie\n",
        "def tel_letter(string):\n",
        "    for k in ['a','e','i','o','u'] :\n",
        "        aantal = string.count(k)\n",
        "        if aantal > 0:\n",
        "            print(k + \": \" + str(aantal))\n",
        "\n",
        "# Roep de functie aan\n",
        "tel_letter('Mark Terlien')\n"
      ],
      "execution_count": null,
      "outputs": []
    },
    {
      "metadata": {
        "id": "TDfJjknvX7So",
        "colab_type": "code",
        "colab": {},
        "trusted": false
      },
      "cell_type": "code",
      "source": [],
      "execution_count": null,
      "outputs": []
    }
  ],
  "metadata": {
    "kernelspec": {
      "name": "python3",
      "display_name": "Python 3",
      "language": "python"
    },
    "language_info": {
      "mimetype": "text/x-python",
      "nbconvert_exporter": "python",
      "name": "python",
      "pygments_lexer": "ipython3",
      "version": "3.7.3-final",
      "file_extension": ".py",
      "codemirror_mode": {
        "version": 3,
        "name": "ipython"
      }
    },
    "colab": {
      "name": "Oefeningen introductie Python.ipynb",
      "provenance": [],
      "collapsed_sections": []
    }
  },
  "nbformat": 4,
  "nbformat_minor": 1
}