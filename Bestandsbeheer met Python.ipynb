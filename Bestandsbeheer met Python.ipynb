{
  "cells": [
    {
      "metadata": {
        "id": "g9IxMvJnVA9a",
        "colab_type": "text"
      },
      "cell_type": "markdown",
      "source": [
        "# Uitleg modules\n",
        "\n",
        "In dit hoofdstuk worden de volgende Python modules nader uitgelegd:\n",
        "- os (voor bestandsbeheer)\n",
        "- zipfile (voor het uitpakken van zipbestanden)\n",
        "\n",
        "Deze modules heb je later nodig om het proces van het berekenen van een NDVI kaart op basis van Sentinel satellietbeelden"
      ]
    },
    {
      "metadata": {
        "id": "4F3u0c3GVA9b",
        "colab_type": "text"
      },
      "cell_type": "markdown",
      "source": [
        "## De module `os`\n",
        "\n",
        "De module `os` maakt het mogelijk om vanuit een Python script bestandsbeheer uit te voeren. Denk hierbij aan het navigeren naar een folder, het opvragen van een lijst van bestanden in een folder, het verplaatsen van bestanden en het verwijderen van bestanden. De volledige set van funcies kan je [hier](https://docs.python.org/3/library/os.html) vinden. Voordat je functies uit de `os` module kan gebruiken moet deze geïmporteerd worden.\n",
        "\n",
        "**Let op:** In Python kan je niet de \\ (forward slash) in de pad aanduiding gebruiken zoals gebruikelijk is in Windows. Er zijn drie alternatieven: \n",
        "- forward slash (/)\n",
        "- Twee backslashes (\\\\)\n",
        "- Pad beginnen met r "
      ]
    },
    {
      "metadata": {
        "id": "NKFZwqExVA9d",
        "colab_type": "code",
        "colab": {
          "base_uri": "https://localhost:8080/",
          "height": 51
        },
        "outputId": "ce5d6763-f2a5-47dd-d4a0-34a4ad07588b",
        "executionInfo": {
          "status": "ok",
          "timestamp": 1588171727710,
          "user_tz": -120,
          "elapsed": 710,
          "user": {
            "displayName": "Python Terlien",
            "photoUrl": "",
            "userId": "08285185954748187513"
          }
        },
        "trusted": true,
        "tags": []
      },
      "cell_type": "code",
      "source": [
        "import os\n",
        "\n",
        "# Navigeer naar de subfolder data\\raster\n",
        "os.chdir('data/raster')\n",
        "folder = os.getcwd()\n",
        "print(folder)\n"
      ],
      "execution_count": 4,
      "outputs": [
        {
          "output_type": "stream",
          "name": "stdout",
          "text": "c:\\temp\\github\\DDD-Python-2021-test\\data\\raster\n"
        }
      ]
    },
    {
      "metadata": {
        "id": "Uib0DVMDVA9j",
        "colab_type": "text"
      },
      "cell_type": "markdown",
      "source": [
        "Het is mogelijk om de inhoud van een folder op te vragen. Je krijgt dan een lijst met alle bestandsnamen en foldernamen van het type `list` terug. Met een `for` lus kan je de naam van elk bestand en elke de folder ophalen en vervolgens afdrukken. Met de functie `os.path.isfile` kan je checken het een bestand of folder is."
      ]
    },
    {
      "metadata": {
        "id": "LJPzF4sKVA9l",
        "colab_type": "code",
        "colab": {
          "base_uri": "https://localhost:8080/",
          "height": 1000
        },
        "outputId": "6a2a312b-1ce5-4865-882f-5ce507eea188",
        "executionInfo": {
          "status": "ok",
          "timestamp": 1588172632910,
          "user_tz": -120,
          "elapsed": 720,
          "user": {
            "displayName": "Python Terlien",
            "photoUrl": "",
            "userId": "08285185954748187513"
          }
        },
        "trusted": true
      },
      "cell_type": "code",
      "source": [
        "import os\n",
        "\n",
        "\n",
        "# Toon alle bestanden in deze folder \n",
        "folder_inhoud = os.listdir()\n",
        "for bestand_of_folder in folder_inhoud :\n",
        "    print(bestand_of_folder)\n",
        "    print(os.path.isfile(bestand_of_folder))\n",
        "    \n",
        "    # Haal bestandsextensie op \n",
        "    if os.path.isfile(bestand_of_folder) :\n",
        "      print(os.path.abspath(bestand_of_folder))     # Volledige pad met bestandsnaam en extensie\n",
        "      print(os.path.split(bestand_of_folder))       # Folder waarin bestand staat en bestandsnaam met extensie\n",
        "      print(os.getcwd())                            # Working directory\n",
        "      print(os.path.basename(bestand_of_folder))    # Bestandsnaam met extensie\n",
        "      print(os.path.splitext(bestand_of_folder)[0]) # Bestandsnaam zonder extensie\n",
        "      print(os.path.splitext(bestand_of_folder)[1]) # Extensie\n",
        "  \n"
      ],
      "execution_count": 3,
      "outputs": [
        {
          "output_type": "stream",
          "text": "T31UFT_20190824T105031_B02_10m.tif\nTrue\n/home/nbuser/library/data/raster/T31UFT_20190824T105031_B02_10m.tif\n('', 'T31UFT_20190824T105031_B02_10m.tif')\n/home/nbuser/library/data/raster\nT31UFT_20190824T105031_B02_10m.tif\nT31UFT_20190824T105031_B02_10m\n.tif\nT31UFT_20190824T105031_B08_10m.tif\nTrue\n/home/nbuser/library/data/raster/T31UFT_20190824T105031_B08_10m.tif\n('', 'T31UFT_20190824T105031_B08_10m.tif')\n/home/nbuser/library/data/raster\nT31UFT_20190824T105031_B08_10m.tif\nT31UFT_20190824T105031_B08_10m\n.tif\nT31UFT_20190824T105031_B03_10m.tif\nTrue\n/home/nbuser/library/data/raster/T31UFT_20190824T105031_B03_10m.tif\n('', 'T31UFT_20190824T105031_B03_10m.tif')\n/home/nbuser/library/data/raster\nT31UFT_20190824T105031_B03_10m.tif\nT31UFT_20190824T105031_B03_10m\n.tif\nT31UFT_20190824T105031_B04_10m.tif\nTrue\n/home/nbuser/library/data/raster/T31UFT_20190824T105031_B04_10m.tif\n('', 'T31UFT_20190824T105031_B04_10m.tif')\n/home/nbuser/library/data/raster\nT31UFT_20190824T105031_B04_10m.tif\nT31UFT_20190824T105031_B04_10m\n.tif\n",
          "name": "stdout"
        }
      ]
    },
    {
      "metadata": {
        "id": "5mq0TKq8VA9q",
        "colab_type": "text"
      },
      "cell_type": "markdown",
      "source": [
        "Je kan de lijst van bestanden ook gebruiken om te checken of een bestand aanwezig is in een folder. Dit zou je kunnen gebruiken om een bestand te verwijderen als het gevonden is."
      ]
    },
    {
      "metadata": {
        "id": "54zUkU5bVA9r",
        "colab_type": "code",
        "colab": {
          "base_uri": "https://localhost:8080/",
          "height": 51
        },
        "outputId": "29f28a07-21c4-4438-ea17-86db0195de6d",
        "executionInfo": {
          "status": "ok",
          "timestamp": 1588172688769,
          "user_tz": -120,
          "elapsed": 760,
          "user": {
            "displayName": "Python Terlien",
            "photoUrl": "",
            "userId": "08285185954748187513"
          }
        },
        "trusted": true
      },
      "cell_type": "code",
      "source": [
        "import os\n",
        "\n",
        "# Maak lijst van bestanden\n",
        "folder_inhoud = os.listdir()\n",
        "\n",
        "# Check of bestand bestaat en verwijder indien gevonden\n",
        "bestandsnaam = 'my_file.txt'\n",
        "if bestandsnaam in folder_inhoud :\n",
        "    print('Bestand gevonden')\n",
        "else :\n",
        "    print('Bestand niet gevonden')\n",
        "\n",
        "# Maak bestand\n",
        "open(bestandsnaam, 'a').close()\n",
        "\n",
        "# Maak lijst van bestanden\n",
        "folder_inhoud = os.listdir()\n",
        "\n",
        "# Check of bestand bestaat en verwijder indien gevonden\n",
        "if bestandsnaam in folder_inhoud :\n",
        "    print('Bestand gevonden en verwijderd')\n",
        "    os.remove(bestandsnaam)\n",
        "else :\n",
        "    print('Bestand niet gevonden')\n",
        "\n"
      ],
      "execution_count": 4,
      "outputs": [
        {
          "output_type": "stream",
          "text": "Bestand niet gevonden\nBestand gevonden en verwijderd\n",
          "name": "stdout"
        }
      ]
    },
    {
      "metadata": {
        "id": "rnOozKNSVA9v",
        "colab_type": "text"
      },
      "cell_type": "markdown",
      "source": [
        "Als je niet alleen de bestanden in je werkfolder wilt zien maar ook in alle onderliggende folders, dan kan je de de module `glob` gebruiken.\n",
        "Deze geeft een lijst van alle bestanden in je werkfolder en onderliggende folders met het volledige pad."
      ]
    },
    {
      "metadata": {
        "id": "FU-Vdgx1VA9w",
        "colab_type": "code",
        "colab": {
          "base_uri": "https://localhost:8080/",
          "height": 612
        },
        "outputId": "85116688-077b-4028-9076-ad439b77ad24",
        "executionInfo": {
          "status": "ok",
          "timestamp": 1588172837115,
          "user_tz": -120,
          "elapsed": 712,
          "user": {
            "displayName": "Python Terlien",
            "photoUrl": "",
            "userId": "08285185954748187513"
          }
        },
        "trusted": true
      },
      "cell_type": "code",
      "source": [
        "import glob\n",
        "\n",
        "for name in glob.iglob('/home/nbuser/library/**', recursive=True):\n",
        "    print(name)"
      ],
      "execution_count": 5,
      "outputs": [
        {
          "output_type": "stream",
          "text": "/home/nbuser/library/\n/home/nbuser/library/Introductie Python.ipynb\n/home/nbuser/library/data\n/home/nbuser/library/data/raster\n/home/nbuser/library/data/raster/T31UFT_20190824T105031_B02_10m.tif\n/home/nbuser/library/data/raster/T31UFT_20190824T105031_B08_10m.tif\n/home/nbuser/library/data/raster/T31UFT_20190824T105031_B03_10m.tif\n/home/nbuser/library/data/raster/T31UFT_20190824T105031_B04_10m.tif\n/home/nbuser/library/Introductie GDAL.ipynb\n/home/nbuser/library/Bestandsbeheer met Python.ipynb\n/home/nbuser/library/Oefeningen introductie Python.ipynb\n/home/nbuser/library/README.md\n",
          "name": "stdout"
        }
      ]
    },
    {
      "metadata": {
        "id": "1lZBIRUZVA9z",
        "colab_type": "text"
      },
      "cell_type": "markdown",
      "source": [
        "## De module `zipfile`\n",
        "\n",
        "De module `zipfile` maakt het mogelijk om vanuit een Python script bestanden te zippen en te unzippen. Uitgebreide informatie over deze module kan je [hier](https://docs.python.org/3/library/zipfile.html) vinden. De module `zipfile` bevat een aantal objecten. Een object heeft attributen en functies die je op een object uit kan voeren. Het object `ZipFile` heeft o.a.de naam als attribuut. Op een zipfile object kan je de functie `write` aanroepen om een bestand te zippen. "
      ]
    },
    {
      "metadata": {
        "id": "nyCBBa5hVA9z",
        "colab_type": "code",
        "colab": {},
        "trusted": false
      },
      "cell_type": "code",
      "source": [
        "from zipfile import ZipFile\n",
        "import os\n",
        "\n",
        "# Bestandsnamen\n",
        "bestand_naam = 'zipme.txt'\n",
        "zip_bestand_naam = 'zipme.zip'\n",
        "\n",
        "# Navigeer naar de start folder\n",
        "os.chdir(start_folder + '/data')\n",
        "\n",
        "# Check of bestand bestaat en gooi dan weg\n",
        "if bestand_naam in os.listdir() :\n",
        "    os.remove(bestand_naam)\n",
        "    print('Bestand ' + bestand_naam + ' verwijderd')\n",
        "\n",
        "# Maak tekst bestand\n",
        "open(bestand_naam, 'a').close()\n",
        "\n",
        "# Maak een nieuw leeg zipbestand object met de naam van de zipfile die gemaakt moet worden om te zippen\n",
        "my_zipfile_new = ZipFile(zip_bestand_naam, 'w')\n",
        "\n",
        "# Schrijf bestand naar zip bestand\n",
        "my_zipfile_new.write(bestand_naam)\n",
        "\n",
        "# Sluit zipbestand\n",
        "my_zipfile_new.close()\n",
        "print(bestand_naam + ' toegevoegd aan zipbestand ' + zip_bestand_naam)\n",
        "\n",
        "# Verwijder tekst bestand\n",
        "os.remove(bestand_naam)"
      ],
      "execution_count": 0,
      "outputs": []
    },
    {
      "metadata": {
        "id": "z2D8WJQxVA92",
        "colab_type": "text"
      },
      "cell_type": "markdown",
      "source": [
        "Op een zipfile object kan je de functie `extractall()` aanroepen om te unzippen."
      ]
    },
    {
      "metadata": {
        "id": "NnU0G6JjVA92",
        "colab_type": "code",
        "colab": {},
        "trusted": false
      },
      "cell_type": "code",
      "source": [
        "from zipfile import ZipFile\n",
        "\n",
        "# Bestandsnamen\n",
        "zip_bestand_naam = 'zipme.zip'\n",
        "\n",
        "# Maak zipbestand object op basis van een bestaande zipfile om te upzippen\n",
        "my_zipfile = ZipFile(zip_bestand_naam, 'r')\n",
        "\n",
        "# Upzip zipfile\n",
        "my_zipfile.extractall()\n",
        "\n",
        "# Sluit zipbestand\n",
        "my_zipfile.close()\n",
        "print(zip_bestand_naam + ' upzipt')\n",
        "\n",
        "# Verwijder zip bestand\n",
        "os.remove(zip_bestand_naam)"
      ],
      "execution_count": 0,
      "outputs": []
    }
  ],
  "metadata": {
    "kernelspec": {
      "name": "python3",
      "display_name": "Python 3",
      "language": "python"
    },
    "language_info": {
      "mimetype": "text/x-python",
      "nbconvert_exporter": "python",
      "name": "python",
      "file_extension": ".py",
      "version": "3.7.3-final",
      "pygments_lexer": "ipython3",
      "codemirror_mode": {
        "version": 3,
        "name": "ipython"
      }
    },
    "colab": {
      "name": "Bestandsbeheer met Python.ipynb",
      "provenance": [],
      "collapsed_sections": []
    }
  },
  "nbformat": 4,
  "nbformat_minor": 1
}