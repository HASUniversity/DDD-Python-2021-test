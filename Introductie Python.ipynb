{
  "cells": [
    {
      "metadata": {
        "toc-hr-collapsed": false,
        "id": "R0PEPezCUfeO",
        "colab_type": "text"
      },
      "cell_type": "markdown",
      "source": "# Data verwerking met Python\n\nPython is een populaire programmeertaal die bedacht is door Guido van Rossum in 1991. \n\nPython kan gebruikt worden voor:\n- Maken van web applicaties\n- Automatiseren van data verwerking\n- Verbinden met databases en het lezen en schrijven van (GIS-)bestanden\n- Data analyse en machine learning\n\nPython heeft een aantal voordelen:\n- Python werkt op verschillende platformen (Windows, Mac en Linux)\n- Python heeft een eenvoudige syntax\n- Python is erg geschikt voor protoyping\n- In Python is het mogelijk om zowel procedureel als object geörienteerd te werken\n- Er zijn veel bibliotheken beschikbaar om de functionaliteit uit te breiden\n\nWij gaan Python gebruiken voor het automatiseren van data verwerking en het lezen en schrijven van GIS-bestanden.\n\nEen uitgebreide introductie over programmeren in Python vind je [hier](http://greenteapress.com/thinkpython2/thinkpython2.pdf).\n\nEen eenvoudige Python tutorial met voorbeelden vind je [hier](https://www.w3schools.com/python/).\n\n\n## Importeren van libraries\n\nOm de functionaliteit van Python uit te breiden kun je libraries installeren. Veelgebruikte libraries voor data verwerking van geografische gegevens zijn *gdal* en *numpy*. Je kunt deze libraries importeren met de functie `import`."
    },
    {
      "metadata": {
        "id": "C9Wplrp-UfeP",
        "colab_type": "code",
        "outputId": "fb160806-1e3e-4ba5-b32e-b4528673b746",
        "colab": {
          "base_uri": "https://localhost:8080/",
          "height": 71
        },
        "trusted": true
      },
      "cell_type": "code",
      "source": "import math\n\nprint(type(math))\nprint(dir(math))",
      "execution_count": 1,
      "outputs": [
        {
          "output_type": "stream",
          "text": "<class 'module'>\n['__doc__', '__file__', '__loader__', '__name__', '__package__', '__spec__', 'acos', 'acosh', 'asin', 'asinh', 'atan', 'atan2', 'atanh', 'ceil', 'copysign', 'cos', 'cosh', 'degrees', 'e', 'erf', 'erfc', 'exp', 'expm1', 'fabs', 'factorial', 'floor', 'fmod', 'frexp', 'fsum', 'gamma', 'gcd', 'hypot', 'inf', 'isclose', 'isfinite', 'isinf', 'isnan', 'ldexp', 'lgamma', 'log', 'log10', 'log1p', 'log2', 'modf', 'nan', 'pi', 'pow', 'radians', 'sin', 'sinh', 'sqrt', 'tan', 'tanh', 'trunc']\n",
          "name": "stdout"
        }
      ]
    },
    {
      "metadata": {
        "id": "bdDxaDwDUfeU",
        "colab_type": "text"
      },
      "cell_type": "markdown",
      "source": "## Commentaar in Python\n\nEen goede programmeur voorziet zijn code van commentaar. Commentaar geeft toelichting op de code zodat deze ook van andere programmeurs te begrijpen is. In Python moet een commentaarregel voorafgegaan worden door een `#`."
    },
    {
      "metadata": {
        "id": "6bL6OUeJUfeV",
        "colab_type": "code",
        "colab": {},
        "trusted": true
      },
      "cell_type": "code",
      "source": "print('Deze regel wordt geprint omdat dit geen commentaarregel is')\n#print('Deze regel wordt niet geprint omdat dit een commentaarregel is')",
      "execution_count": 2,
      "outputs": [
        {
          "output_type": "stream",
          "text": "Deze regel wordt geprint omdat dit geen commentaarregel is\n",
          "name": "stdout"
        }
      ]
    },
    {
      "metadata": {
        "toc-hr-collapsed": false,
        "id": "KnB0oxSoUfeX",
        "colab_type": "text"
      },
      "cell_type": "markdown",
      "source": "# Variabelen en data types in Python\n\nEen variabele is een stukje gereserveerd geheugen in een computer om waardes op te slaan. Het data type van een variabele bepaalt welke bewerkingen op een variabele uitgevoerd mogen worden. Bekende data types zijn:\n- string voor de opslag van tekst (bijv. \"Hello world\")\n- integer voor de opslag van gehele getallen (bijv. 5)\n- float voor de opslag van decimale getallen (bijv. 5.5)\n- boolean voor de opslag van true of false\n\nIn Python wordt het data type van een variabele bepaalt als je de variabele een waarde geeft "
    },
    {
      "metadata": {
        "id": "hKdDAFc3UfeY",
        "colab_type": "code",
        "colab": {},
        "trusted": true
      },
      "cell_type": "code",
      "source": "x = 'Hello world'\nprint(type(x))",
      "execution_count": 3,
      "outputs": [
        {
          "output_type": "stream",
          "text": "<class 'str'>\n",
          "name": "stdout"
        }
      ]
    },
    {
      "metadata": {
        "id": "mGBWADwQUfea",
        "colab_type": "code",
        "colab": {},
        "trusted": true
      },
      "cell_type": "code",
      "source": "y = 5\nprint(type(y))",
      "execution_count": 4,
      "outputs": [
        {
          "output_type": "stream",
          "text": "<class 'int'>\n",
          "name": "stdout"
        }
      ]
    },
    {
      "metadata": {
        "id": "BlwUNdZ1Ufed",
        "colab_type": "code",
        "colab": {},
        "trusted": true
      },
      "cell_type": "code",
      "source": "z = 5.5\nprint(type(z))",
      "execution_count": 5,
      "outputs": [
        {
          "output_type": "stream",
          "text": "<class 'float'>\n",
          "name": "stdout"
        }
      ]
    },
    {
      "metadata": {
        "id": "WHCYH4IMUfef",
        "colab_type": "code",
        "colab": {},
        "trusted": true
      },
      "cell_type": "code",
      "source": "a = True\nprint(type(a))",
      "execution_count": 6,
      "outputs": [
        {
          "output_type": "stream",
          "text": "<class 'bool'>\n",
          "name": "stdout"
        }
      ]
    },
    {
      "metadata": {
        "toc-hr-collapsed": true,
        "id": "opx58pnnUfei",
        "colab_type": "text"
      },
      "cell_type": "markdown",
      "source": "## Werken met strings\n\nEen string staat altijd tussen enkele quotes of dubbele quotes. Het toekennen van een string aan een variabele gebeurt met het = teken."
    },
    {
      "metadata": {
        "id": "whqfowyHUfej",
        "colab_type": "code",
        "colab": {},
        "trusted": false
      },
      "cell_type": "code",
      "source": "x = 'Hello world'\nprint(x)",
      "execution_count": 0,
      "outputs": []
    },
    {
      "metadata": {
        "id": "oZlGnpNWUfel",
        "colab_type": "text"
      },
      "cell_type": "markdown",
      "source": "met het + teken kan je twee strings aan elkaar koppelen"
    },
    {
      "metadata": {
        "id": "KvtrsozzUfel",
        "colab_type": "code",
        "colab": {},
        "trusted": false
      },
      "cell_type": "code",
      "source": "x = 'Hello '\ny = 'world'\nz = x + y + y\nprint(z)",
      "execution_count": 0,
      "outputs": []
    },
    {
      "metadata": {
        "id": "TrRBmm2fUfen",
        "colab_type": "text"
      },
      "cell_type": "markdown",
      "source": "Een string kan beschouwd worden als een lijst van karakters waardoor je eenvoudig karakters uit een string kan halen.\n\n**Let op:** Programmeurs beginnen bij 0 te tellen!"
    },
    {
      "metadata": {
        "id": "vNjCxlRkUfeo",
        "colab_type": "code",
        "colab": {},
        "trusted": false
      },
      "cell_type": "code",
      "source": "x = 'Hello world'\nprint(x[2])",
      "execution_count": 0,
      "outputs": []
    },
    {
      "metadata": {
        "id": "NL113xYCUfeq",
        "colab_type": "text"
      },
      "cell_type": "markdown",
      "source": "Het is ook mogelijk om een range van karakters te selecteren. In het volgende voorbeeld worden de eerste vijf karakters geselecteerd."
    },
    {
      "metadata": {
        "id": "2Q7xuZLpUfeq",
        "colab_type": "code",
        "colab": {},
        "trusted": false
      },
      "cell_type": "code",
      "source": "x = 'Hello world'\nprint(x[1:5])",
      "execution_count": 0,
      "outputs": []
    },
    {
      "metadata": {
        "id": "w_9P6QqaUfet",
        "colab_type": "text"
      },
      "cell_type": "markdown",
      "source": "In het volgende voorbeeld worden alle karakters vanaf het zevende karakter geselecteerd."
    },
    {
      "metadata": {
        "id": "3BbT5fKoUfet",
        "colab_type": "code",
        "colab": {},
        "trusted": false
      },
      "cell_type": "code",
      "source": "x = 'Hello world'\nprint(x[6:])",
      "execution_count": 0,
      "outputs": []
    },
    {
      "metadata": {
        "id": "O_q00X2bUfev",
        "colab_type": "text"
      },
      "cell_type": "markdown",
      "source": "In het volgende voorbeeld worden de laatste vijf karakters geselecteerd."
    },
    {
      "metadata": {
        "id": "N51htv-PUfew",
        "colab_type": "code",
        "colab": {},
        "trusted": false
      },
      "cell_type": "code",
      "source": "x = 'Hello world'\nprint(x[-5:])",
      "execution_count": 0,
      "outputs": []
    },
    {
      "metadata": {
        "id": "dNqiZxLUUfey",
        "colab_type": "text"
      },
      "cell_type": "markdown",
      "source": "Het is ook mogelijk om strings te vervangen. In het volgende voorbeeld wordt de string \"world\" vervangen door \"wereld\"."
    },
    {
      "metadata": {
        "id": "z4vjnizAUfey",
        "colab_type": "code",
        "colab": {},
        "trusted": false
      },
      "cell_type": "code",
      "source": "x = 'Hello world'\ny = x.replace('world','wereld')\nprint(y)",
      "execution_count": 0,
      "outputs": []
    },
    {
      "metadata": {
        "toc-hr-collapsed": true,
        "id": "bUuCgvy3Ufe1",
        "colab_type": "text"
      },
      "cell_type": "markdown",
      "source": "## Werken met nummers\n\nEen nummer staat nooit tussen enkele quotes of dubbele quotes. Het toekennen van een nummer aan een variabele gebeurt met het = teken. Als je een geheel getal toekent aan een variabele wordt het data type een `int`. Als je een decimaal getal toekent aan een variabele wordt het data type een `float`. Als je een geheel getal als `float` wilt definiëren, dan moet je het getal met een punt toekennen aan een variabele."
    },
    {
      "metadata": {
        "id": "xEVr2kTYUfe1",
        "colab_type": "code",
        "colab": {},
        "trusted": false
      },
      "cell_type": "code",
      "source": "x = 5\nprint(type(x))",
      "execution_count": 0,
      "outputs": []
    },
    {
      "metadata": {
        "id": "rLcsOWHoUfe3",
        "colab_type": "code",
        "colab": {},
        "trusted": false
      },
      "cell_type": "code",
      "source": "y = 5.5\nprint(type(y))",
      "execution_count": 0,
      "outputs": []
    },
    {
      "metadata": {
        "id": "Wr35t4roUfe6",
        "colab_type": "code",
        "colab": {},
        "trusted": false
      },
      "cell_type": "code",
      "source": "z = 5.\nprint(type(z))",
      "execution_count": 0,
      "outputs": []
    },
    {
      "metadata": {
        "id": "2EeHwFy-Ufe8",
        "colab_type": "text"
      },
      "cell_type": "markdown",
      "source": "In berekeningen is het mogelijk om zowel integers en floats te gebruiken."
    },
    {
      "metadata": {
        "id": "XBPGa9KsUfe9",
        "colab_type": "code",
        "colab": {},
        "trusted": false
      },
      "cell_type": "code",
      "source": "x = 5\ny = 5.5\nz = x + y\nprint(z)\nprint(type(z))",
      "execution_count": 0,
      "outputs": []
    },
    {
      "metadata": {
        "id": "0mjFEADPUfe_",
        "colab_type": "text"
      },
      "cell_type": "markdown",
      "source": "De library *math* beidt een groot aantal mathematische functies, bijvoorbeeld voor worteltrekken. Hiervoor gebruik je de functie *sqrt*."
    },
    {
      "metadata": {
        "id": "zWiVQ0HUUfe_",
        "colab_type": "code",
        "colab": {},
        "trusted": false
      },
      "cell_type": "code",
      "source": "import math\n\nx = '5'\nprint(type(x))\ny = math.sqrt(x)\nprint(y)\nprint(type(y))",
      "execution_count": 0,
      "outputs": []
    },
    {
      "metadata": {
        "id": "WEAi4dc4UffB",
        "colab_type": "text"
      },
      "cell_type": "markdown",
      "source": "Meer informatie over de `math` library kan [hier](https://docs.python.org/3/library/math.html) gevonden worden."
    },
    {
      "metadata": {
        "id": "7bCX9ih7UffB",
        "colab_type": "text"
      },
      "cell_type": "markdown",
      "source": "## Werken met booleans\n\nEen boolean variabele kan de waarde `true` of `false` hebben. Als je een vergelijking evalueert is de uitkomst of `true`of `false`. \n\n**Let op:** Als je checkt of twee waardes hetzelfde zijn gebruik je ==. Om een waarde aan een variabele toe te kennen, gebruik je =."
    },
    {
      "metadata": {
        "id": "93bnvouiUffC",
        "colab_type": "code",
        "colab": {},
        "trusted": false
      },
      "cell_type": "code",
      "source": "print(5 > 4)\nprint(5 == 5)\nprint(5 == 4)\nprint(5 < 4)",
      "execution_count": 0,
      "outputs": []
    },
    {
      "metadata": {
        "toc-hr-collapsed": true,
        "id": "kVUToI8oUffG",
        "colab_type": "text"
      },
      "cell_type": "markdown",
      "source": "## Werken met datum en tijd\n\nDatum en tijd zijn geen data types maar het is wel mogelijk om met datum en tijd te werken door gebruik te maken van de library **datetime**. Deze library moet geïmporteerd worden om met datum en tijd te kunnen werken. Met het commando `dir` krijg je een overzicht van alle functies in de library."
    },
    {
      "metadata": {
        "id": "u_YsJRgkUffH",
        "colab_type": "code",
        "colab": {},
        "trusted": false
      },
      "cell_type": "code",
      "source": "import datetime\n\nprint(type(datetime))\nprint(dir(datetime))",
      "execution_count": 0,
      "outputs": []
    },
    {
      "metadata": {
        "id": "OtKPnCxvUffI",
        "colab_type": "text"
      },
      "cell_type": "markdown",
      "source": "De huidige datum kan als volgt opgevraagd worden:"
    },
    {
      "metadata": {
        "id": "KVbV1YC-UffJ",
        "colab_type": "code",
        "colab": {},
        "trusted": false
      },
      "cell_type": "code",
      "source": "import datetime\n\nx = datetime.datetime.now()\nprint(x)",
      "execution_count": 0,
      "outputs": []
    },
    {
      "metadata": {
        "id": "xOzaThqHUffL",
        "colab_type": "text"
      },
      "cell_type": "markdown",
      "source": "Het is ook mogelijk om zelf een datum en tijd te definiëren en met datums en tijd te rekenen om het verschil tussen twee tijdstippen uit te rekenen.  "
    },
    {
      "metadata": {
        "id": "t5S0HfsmUffL",
        "colab_type": "code",
        "colab": {},
        "trusted": false
      },
      "cell_type": "code",
      "source": "import datetime\n\nx = datetime.datetime(2019, 5, 17, 15, 45, 00)\nprint(x)\n\ny = datetime.datetime(2020, 5, 17, 12, 50, 21)\nprint(y)\n\n# Bereken het tijdsverschil tussen x en y in dagen, uren, minuten en seconden\nz = y - x\nprint(z) \n\n# Print tijdsverschil in seconden\nprint(z.seconds)",
      "execution_count": 0,
      "outputs": []
    },
    {
      "metadata": {
        "id": "oGZrQEPVUffO",
        "colab_type": "text"
      },
      "cell_type": "markdown",
      "source": "Meer informatie over de `datetime` library kan [hier](https://docs.python.org/3/library/datetime.html) gevonden worden. "
    },
    {
      "metadata": {
        "id": "a2_ajgz1UffO",
        "colab_type": "text"
      },
      "cell_type": "markdown",
      "source": "## Werken met lijsten\n\nEen `list` is een geordende verzameling van data elementen (bijvoorbeeld integers, floats of strings). De elementen in een lijst zijn geordend wat betekent dat ieder element op basis van een index (positie in de lijst) uit de lijst opgehaald kan worden. \n\nJe maakt een nieuwe lege lijst met blokhaken. Met de functie append kan je elementen aan een lijst toevoegen. "
    },
    {
      "metadata": {
        "id": "k5-L1eRrUffP",
        "colab_type": "code",
        "colab": {},
        "trusted": false
      },
      "cell_type": "code",
      "source": "my_list = []\nmy_list.append(1)\nmy_list.append(2)\nmy_list.append(3)\nprint(my_list)",
      "execution_count": 0,
      "outputs": []
    },
    {
      "metadata": {
        "id": "5f_wma4JUffQ",
        "colab_type": "text"
      },
      "cell_type": "markdown",
      "source": "Het is ook mogelijk om een lijst met elementen te creeëren."
    },
    {
      "metadata": {
        "id": "8b-NXJ8TUffR",
        "colab_type": "code",
        "colab": {},
        "trusted": false
      },
      "cell_type": "code",
      "source": "my_list = [1, 2, 3]\nmy_list.append(1)\nmy_list.append(2)\nmy_list.append(3)\nprint(len(my_list))",
      "execution_count": 0,
      "outputs": []
    },
    {
      "metadata": {
        "id": "5UADvo1TUffT",
        "colab_type": "text"
      },
      "cell_type": "markdown",
      "source": "Je kan op basis van positie in de lijst (index) een element uit de lijst ophalen.\n\n**Let op:** Programmeurs beginnen bij 0 te tellen!"
    },
    {
      "metadata": {
        "id": "La9SYS3rUffT",
        "colab_type": "code",
        "colab": {},
        "trusted": false
      },
      "cell_type": "code",
      "source": "my_list = [1, 2, 3]\nprint(my_list[1])",
      "execution_count": 0,
      "outputs": []
    },
    {
      "metadata": {
        "id": "BdrIZmCHUffV",
        "colab_type": "text"
      },
      "cell_type": "markdown",
      "source": "Het is ook mogelijk om alle elementen uit een lijst op te halen via een `for` lus. De `for` lus wordt in het volgende hoofdstuk in detail behandeld."
    },
    {
      "metadata": {
        "id": "tYy9biO9UffV",
        "colab_type": "code",
        "colab": {},
        "trusted": false
      },
      "cell_type": "code",
      "source": "my_list = [1, 2, 3, 4]\nfor element in my_list :\n    print(element)",
      "execution_count": 0,
      "outputs": []
    },
    {
      "metadata": {
        "id": "YYkyUcceUffY",
        "colab_type": "text"
      },
      "cell_type": "markdown",
      "source": "Het aantal elementen in een lijst is als volgt te bepalen."
    },
    {
      "metadata": {
        "id": "frJyCbIfUffY",
        "colab_type": "code",
        "colab": {},
        "trusted": false
      },
      "cell_type": "code",
      "source": "my_list = [1, 2, 3, 4]\nprint(len(my_list))",
      "execution_count": 0,
      "outputs": []
    },
    {
      "metadata": {
        "toc-hr-collapsed": false,
        "id": "eAlGGhwlUffa",
        "colab_type": "text"
      },
      "cell_type": "markdown",
      "source": "# Flow control\n\nDe flow control bepaalt de volgorde van uitvoering van instructies van een computer programma. De flow control wordt bepaald door beslissingsstructuren (het `if` statement) en besturingsstructuren (`while` en `for` lussen). In beslissingsstructuren wordt een uitvoeringsblok afhankelijk van de conditie uitgevoerd. Een uitvoeringsblok bestaat uit één of meer instructies die altijd als één geheel uitgevoerd worden. In een besturingsstructuur (lus) kan een uitvoeringsblok meerdere malen doorlopen worden. Elke keer dat een blok doorlopen wordt, wordt een iteratie genoemd. \n\n**Let op:** In Python wordt een uitvoeringsblok aangegeven door middel van inspringen. Statements die elkaar opvolgen en hetzelfde niveau van inspringing hebben worden beschouwd als één uitvoeringsblok. De manier van programmeren draagt bij aan de leesbaarheid van de code."
    },
    {
      "metadata": {
        "toc-hr-collapsed": true,
        "id": "AxVHCoAlUffa",
        "colab_type": "text"
      },
      "cell_type": "markdown",
      "source": "## Het `if` statement\n\nHet `if` statement wordt gebruikt om beslissingen te nemen met betrekking tot het wel of niet doorlopen van een uitvoeringsblok. Het `if` statement evalueert een boolean expressie. Deze boolean expressie levert of `True` of `False`. Bij `True` wordt een blok met instructies wel uitgevoerd en bij `False` wordt een blok met instructie niet uitgevoerd. Het is mogelijk om het `if` statement uit te breiden met `elif` en/of `else` om aan te geven wat er gedaan moet worden als een boolean expressie een `False` oplevert. "
    },
    {
      "metadata": {
        "id": "aiV0j3UXUffb",
        "colab_type": "code",
        "colab": {},
        "trusted": false
      },
      "cell_type": "code",
      "source": "x = 3\nif x > 4 :\n    print('x groter dan 4')\n\nif x == 4:\n    print('x is 4')\nif x < 4 :\n    print('x kleiner dan 4')\nprint('Ingesprongen')",
      "execution_count": 0,
      "outputs": []
    },
    {
      "metadata": {
        "id": "Sq__gknAUffd",
        "colab_type": "code",
        "colab": {},
        "trusted": false
      },
      "cell_type": "code",
      "source": "x = 4\nif x > 4 :\n    print('x groter dan 4')\nelif x == 4:\n    print('x is 4')\nelse :\n    print('x kleiner 4')",
      "execution_count": 0,
      "outputs": []
    },
    {
      "metadata": {
        "id": "umVPbJnxUfff",
        "colab_type": "code",
        "colab": {},
        "trusted": false
      },
      "cell_type": "code",
      "source": "x = 3\nif x > 4 :\n    print('x groter dan 4')\nelif x == 4:\n    print('x is 4')\nelse :\n    print('x kleiner dan 4')",
      "execution_count": 0,
      "outputs": []
    },
    {
      "metadata": {
        "id": "lsgyoyOIUffh",
        "colab_type": "text"
      },
      "cell_type": "markdown",
      "source": "De volgende condities kunnen geëvalueerd worden in een `if` statement:\n- a == b (gelijk)\n- a != b (niet gelijk)\n- a < b (kleiner)\n- a <= b (kleiner of gelijk)\n- a > b (groter)\n- a >= b (groter of gelijk)\n\nHet is mogelijk om verschillende of verschillende boolean expressies te combineren met de logische operatoren `and` en `or`. "
    },
    {
      "metadata": {
        "id": "P0M9MX6uUffi",
        "colab_type": "code",
        "colab": {},
        "trusted": false
      },
      "cell_type": "code",
      "source": "x = 4\ny = 4\nif x == 3 and y == 4:\n    print('Beide boolean expressies zijn waar')",
      "execution_count": 0,
      "outputs": []
    },
    {
      "metadata": {
        "id": "lZ6jgfEDUffk",
        "colab_type": "code",
        "colab": {},
        "trusted": false
      },
      "cell_type": "code",
      "source": "x = 3 \ny = 4\nif x == 4 or y == 4:\n    print('Een van beide of beide boolean expressies zijn beide waar')",
      "execution_count": 0,
      "outputs": []
    },
    {
      "metadata": {
        "id": "BLyhl_JlUffn",
        "colab_type": "code",
        "colab": {},
        "trusted": false
      },
      "cell_type": "code",
      "source": "x = 5\nif x == 5 :\n    print('Deze regel wordt alleen geprint als x = 5')\nprint('Deze regel wordt altijd geprint')",
      "execution_count": 0,
      "outputs": []
    },
    {
      "metadata": {
        "id": "g2shbvB_Uffo",
        "colab_type": "code",
        "colab": {},
        "trusted": false
      },
      "cell_type": "code",
      "source": "x = 4\nif x == 5 :\n    print('Deze regel wordt alleen geprint als x = 5')\nprint('Deze regel wordt altijd geprint')",
      "execution_count": 0,
      "outputs": []
    },
    {
      "metadata": {
        "id": "TOpDTpYPUffr",
        "colab_type": "text"
      },
      "cell_type": "markdown",
      "source": "Het `IF` statement kan je ook gebruiken om te zoeken in strings"
    },
    {
      "metadata": {
        "id": "fdEZsuNYUffs",
        "colab_type": "code",
        "colab": {},
        "trusted": false
      },
      "cell_type": "code",
      "source": "x = 'Hello world'\nif 'world' in x:\n    print('world gevonden')\nif not 'wereld' in x:\n    print('wereld niet gevonden')",
      "execution_count": 0,
      "outputs": []
    },
    {
      "metadata": {
        "toc-hr-collapsed": false,
        "id": "ZUjsT9yeUfft",
        "colab_type": "text"
      },
      "cell_type": "markdown",
      "source": "## De `while` lus\n\nIn een `while` lus wordt een uitvoeringsblok uitgevoerd zolang er aan een conditie voldaan wordt. In het volgende voorbeeld wordt de `while` lus net zo lang doorlopen totdat de variabele *teller* de waarde 10 heeft. Elke keer dat de lus doorlopen wordt, wordt de teller met 1 opgehoogd.\n\n**Let op:** Binnen de `while` lus moeten twee commando's uitgevoerd worden, het printen van de teller en het verhogen van de teller met 1. Deze commando's vormen samen een uitvoeringsblok en moeten hetzelfde niveau van inspringen hebben."
    },
    {
      "metadata": {
        "id": "QjNlEJqVUffu",
        "colab_type": "code",
        "colab": {},
        "trusted": false
      },
      "cell_type": "code",
      "source": "teller = 0\nwhile teller < 10 :\n    print(teller)\n    #teller = teller + 1\nprint('Einde van while lus')",
      "execution_count": 0,
      "outputs": []
    },
    {
      "metadata": {
        "toc-hr-collapsed": true,
        "id": "xdWXL8eOUffw",
        "colab_type": "text"
      },
      "cell_type": "markdown",
      "source": "## De `for` lus\n\nDe `for` lus is een tellergestuurde lus en bedoeld om een uitvoeringsblok een vooraf ingesteld aantal keren te doorlopen. De `range()` functie kan gebruikt worden om het aantal keren dat een uitvoeringsblok uitgevoerd moet worden aan te geven. De `range()` functie begint default bij 0 en eindigt bij de waarde die meegegeven wordt. Per aanroep wordt de waarde met 1 opgehoogd. Zolang de waarde kleiner is dan de opgegeven eindwaarde wordt de opgehoogd. Het is ook mogelijk een andere waarde dan 0 als startwaarde mee te geven."
    },
    {
      "metadata": {
        "id": "pBQ104RoUffw",
        "colab_type": "code",
        "outputId": "04cbb75b-66c0-44e0-8bcc-09a951a911f2",
        "colab": {},
        "trusted": false
      },
      "cell_type": "code",
      "source": "for x in range(6) :\n    print(x)\nprint('Einde van for lus')",
      "execution_count": 0,
      "outputs": [
        {
          "output_type": "stream",
          "text": "0\n1\n2\n3\n4\n5\nEinde van for lus\n",
          "name": "stdout"
        }
      ]
    },
    {
      "metadata": {
        "id": "l0ZDbYelUffz",
        "colab_type": "code",
        "outputId": "54bb9d37-bcd4-4249-8007-f7749852bf5b",
        "colab": {},
        "trusted": false
      },
      "cell_type": "code",
      "source": "for x in range(4,6) :\n    print(x)\nprint('Einde van for lus')",
      "execution_count": 0,
      "outputs": [
        {
          "output_type": "stream",
          "text": "4\n5\nEinde van for lus\n",
          "name": "stdout"
        }
      ]
    },
    {
      "metadata": {
        "id": "SGVlC5fiUff1",
        "colab_type": "text"
      },
      "cell_type": "markdown",
      "source": "Een `for` lus kan ook gebruikt worden om de individuele elementen van een lijst te verwerken. Omdat een string een lijst van karakters is, is het mogelijk om de karakters van een string te printen in een `for` lus."
    },
    {
      "metadata": {
        "id": "j7nb1BFFUff2",
        "colab_type": "code",
        "outputId": "715b0ea2-be8b-4b7a-db6d-dcb4335f7d0a",
        "colab": {},
        "trusted": false
      },
      "cell_type": "code",
      "source": "s = 'Hello world'\nfor k in s :\n    print(k)\nprint('Einde van for lus')",
      "execution_count": 0,
      "outputs": [
        {
          "output_type": "stream",
          "text": "H\ne\nl\nl\no\n \nw\no\nr\nl\nd\nEinde van for lus\n",
          "name": "stdout"
        }
      ]
    },
    {
      "metadata": {
        "id": "58d667s0Uff4",
        "colab_type": "text"
      },
      "cell_type": "markdown",
      "source": "## Functies in Python\n\nEen functie is een codeblok dat alleen uitgevoerd wordt als het vanuit een andere codeblok aangeroepen wordt. Je schrijft een functie als je functionaliteit wilt het gebruiken in je programma of om je code overzichtelijk te houden.\n\nEen function begint met `def` gevolgd door de functie naam. Daarna volgen tussen haakjes de lijst van parameters die aan de functie meegegeven moetn worden. Met `return` wordt het resultaat van een functie teruggegeven. Het is niet verplicht dat een functie een resultaat teruggeeft. \n\nJe begint altijd met de definitie van de functie. "
    },
    {
      "metadata": {
        "id": "95p0aEZ8Uff4",
        "colab_type": "code",
        "colab": {},
        "trusted": false
      },
      "cell_type": "code",
      "source": "# Functie definitie\ndef optellen(getal1, getal2) :\n    uitkomst = getal1 + getal2\n    return uitkomst",
      "execution_count": 0,
      "outputs": []
    },
    {
      "metadata": {
        "id": "FYmXaT-LUff6",
        "colab_type": "text"
      },
      "cell_type": "markdown",
      "source": "Daarna kan je een functie één of meerdere keren aanroepen."
    },
    {
      "metadata": {
        "id": "neNsBecMUff7",
        "colab_type": "code",
        "outputId": "750673e4-e51e-429b-8727-561cc21898fb",
        "colab": {},
        "trusted": false
      },
      "cell_type": "code",
      "source": "# 1e keer functie aanroep\na = 3\nb = 6\nsom = optellen(a, b)\nprint(som)\n\n# 2e keer functie aanroep\na = 70\nb = 60\nsom = optellen(a, b)\nprint(som)",
      "execution_count": 0,
      "outputs": [
        {
          "output_type": "stream",
          "text": "9\n130\n",
          "name": "stdout"
        }
      ]
    },
    {
      "metadata": {
        "id": "ETHwN3yhUff9",
        "colab_type": "text"
      },
      "cell_type": "markdown",
      "source": "## Foutafhandeling in Python\n\nFouten die optreden omdat je code niet aan de syntax van Python voldoet, bijvoorbeeld omdat je niet bestaande reserved words gebruikt, worden syntax errors genoemd. Voordat een Python script uitgevoerd wordt, wordt gecheckt of de syntax correct is. Is dit niet het geval, dan krijg je een syntax error. "
    },
    {
      "metadata": {
        "id": "xlU4k8W8Uff9",
        "colab_type": "code",
        "outputId": "c2ad9c63-eebe-4a1c-fd71-e032596c95ac",
        "colab": {},
        "trusted": false
      },
      "cell_type": "code",
      "source": "# Script met syntax error\na wordt 5\nif a == 5:\nprint(\"a=5\")",
      "execution_count": 0,
      "outputs": [
        {
          "output_type": "error",
          "ename": "SyntaxError",
          "evalue": "invalid syntax (<ipython-input-7-dcec00b56bbd>, line 2)",
          "traceback": [
            "\u001b[1;36m  File \u001b[1;32m\"<ipython-input-7-dcec00b56bbd>\"\u001b[1;36m, line \u001b[1;32m2\u001b[0m\n\u001b[1;33m    a wordt 5\u001b[0m\n\u001b[1;37m          ^\u001b[0m\n\u001b[1;31mSyntaxError\u001b[0m\u001b[1;31m:\u001b[0m invalid syntax\n"
          ]
        }
      ]
    },
    {
      "metadata": {
        "id": "MjxqvOkuUff_",
        "colab_type": "text"
      },
      "cell_type": "markdown",
      "source": "Soms treden er fouten op bij het uitvoeren van de code. Deze fouten worden runtime errors genoemd. Een voorbeeld van een runtime error is delen door nul of niet kunnen aanloggen op een database omdat de gebruiker een verkeerd wachtwoord opgegeven heeft. Een runtime error (fout tijdens uitvoeren van de code) genereert een exceptie. "
    },
    {
      "metadata": {
        "id": "dKq7Fh7HUfgA",
        "colab_type": "code",
        "outputId": "ddc27d3c-d70d-4737-a21c-972548c5263c",
        "colab": {},
        "trusted": false
      },
      "cell_type": "code",
      "source": "a = 5\nb = 0\n\n# Deel a door b\nc = a/b\nprint(\"einde bewerking\")",
      "execution_count": 0,
      "outputs": [
        {
          "output_type": "error",
          "ename": "ZeroDivisionError",
          "evalue": "division by zero",
          "traceback": [
            "\u001b[1;31m---------------------------------------------------------------------------\u001b[0m",
            "\u001b[1;31mZeroDivisionError\u001b[0m                         Traceback (most recent call last)",
            "\u001b[1;32m<ipython-input-8-8d1ee10c7236>\u001b[0m in \u001b[0;36m<module>\u001b[1;34m\u001b[0m\n\u001b[0;32m      3\u001b[0m \u001b[1;33m\u001b[0m\u001b[0m\n\u001b[0;32m      4\u001b[0m \u001b[1;31m# Deel a door b\u001b[0m\u001b[1;33m\u001b[0m\u001b[1;33m\u001b[0m\u001b[1;33m\u001b[0m\u001b[0m\n\u001b[1;32m----> 5\u001b[1;33m \u001b[0mc\u001b[0m \u001b[1;33m=\u001b[0m \u001b[0ma\u001b[0m\u001b[1;33m/\u001b[0m\u001b[0mb\u001b[0m\u001b[1;33m\u001b[0m\u001b[1;33m\u001b[0m\u001b[0m\n\u001b[0m\u001b[0;32m      6\u001b[0m \u001b[0mprint\u001b[0m\u001b[1;33m(\u001b[0m\u001b[1;34m\"einde bewerking\"\u001b[0m\u001b[1;33m)\u001b[0m\u001b[1;33m\u001b[0m\u001b[1;33m\u001b[0m\u001b[0m\n",
            "\u001b[1;31mZeroDivisionError\u001b[0m: division by zero"
          ]
        }
      ]
    },
    {
      "metadata": {
        "id": "zSdxGHGpUfgB",
        "colab_type": "text"
      },
      "cell_type": "markdown",
      "source": "Een exceptie kan je opvangen zodat je runtime errors op een goede manier kan afhandelen, bijvoorbeeld door te tonen wat fout gaat en je programma niet abrupt stopt. Om je exceptie op te vangen en af te handelen gebruik je de `try ... except` constructie. Alle instructie kunnen in het `try` codeblok. De acties die uitgevoerd moeten worden als er een exceptie optreedt komen in het `except` codeblok."
    },
    {
      "metadata": {
        "id": "FMyjcPiiUfgC",
        "colab_type": "code",
        "outputId": "32838d1b-196c-425b-936f-83db3fad3395",
        "colab": {},
        "trusted": false
      },
      "cell_type": "code",
      "source": "# Geef variabelen een waarde\na = 5\nb = 0\n\n# Deel a door b\ntry:\n    c = a/b\n    print(c)\nexcept: \n    print(\"Er is iets fout gegaan\")\nprint(\"einde bewerking\")    \n\n# Geef variabelen een waarde\na = 5\nb = 1    \n\n# Deel a door b\ntry:\n    c = a/b\n    print(c)\nexcept: \n    print(\"Er is iets fout gegaan\")\nprint(\"einde bewerking\")",
      "execution_count": 0,
      "outputs": [
        {
          "output_type": "stream",
          "text": "Er is iets fout gegaan\neinde bewerking\n5.0\neinde bewerking\n",
          "name": "stdout"
        }
      ]
    },
    {
      "metadata": {
        "id": "ZXDv2ro0UfgF",
        "colab_type": "text"
      },
      "cell_type": "markdown",
      "source": "Bij deze manier van afhandeling zie je niet wat er fout gegaan is. Python heeft ook de mogelijkheid om de opgetreden exceptie op te vangen en te tonen. Hiermee kan je aan de gebruiker aangeven wat er fout gegaan is zodat dat de uitvoering van het programma stopt. "
    },
    {
      "metadata": {
        "id": "1oJs7EjVUfgF",
        "colab_type": "code",
        "outputId": "b2f060fd-292d-4c12-dd3c-6779a7040305",
        "colab": {},
        "trusted": false
      },
      "cell_type": "code",
      "source": "# Geef variabelen een waarde\na = 5\nb = 0\n\n# Deel a door b\ntry:\n    c = a/b\n    print(c)\nexcept Exception as e: \n    print(e)\nprint(\"einde bewerking\")",
      "execution_count": 0,
      "outputs": [
        {
          "output_type": "stream",
          "text": "division by zero\neinde bewerking\n",
          "name": "stdout"
        }
      ]
    }
  ],
  "metadata": {
    "kernelspec": {
      "name": "python3",
      "display_name": "Python 3",
      "language": "python"
    },
    "language_info": {
      "mimetype": "text/x-python",
      "nbconvert_exporter": "python",
      "name": "python",
      "pygments_lexer": "ipython3",
      "version": "3.5.4",
      "file_extension": ".py",
      "codemirror_mode": {
        "version": 3,
        "name": "ipython"
      }
    },
    "toc-showcode": false,
    "toc-showmarkdowntxt": true,
    "colab": {
      "name": "Introductie Python.ipynb",
      "provenance": [],
      "collapsed_sections": [
        "bUuCgvy3Ufe1",
        "7bCX9ih7UffB",
        "kVUToI8oUffG",
        "a2_ajgz1UffO",
        "AxVHCoAlUffa",
        "ZUjsT9yeUfft",
        "xdWXL8eOUffw",
        "58d667s0Uff4",
        "ETHwN3yhUff9"
      ]
    }
  },
  "nbformat": 4,
  "nbformat_minor": 1
}